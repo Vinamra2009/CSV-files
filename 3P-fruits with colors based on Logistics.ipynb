{
 "cells": [
  {
   "cell_type": "code",
   "execution_count": 2,
   "metadata": {},
   "outputs": [],
   "source": [
    "#using this for matplot lib\n",
    "\n",
    "\n",
    "import pandas as pd"
   ]
  },
  {
   "cell_type": "code",
   "execution_count": 3,
   "metadata": {},
   "outputs": [],
   "source": [
    "df=pd.read_csv(\"fruits3.txt\",sep='\\t')"
   ]
  },
  {
   "cell_type": "code",
   "execution_count": 4,
   "metadata": {},
   "outputs": [
    {
     "data": {
      "text/html": [
       "<div>\n",
       "<style scoped>\n",
       "    .dataframe tbody tr th:only-of-type {\n",
       "        vertical-align: middle;\n",
       "    }\n",
       "\n",
       "    .dataframe tbody tr th {\n",
       "        vertical-align: top;\n",
       "    }\n",
       "\n",
       "    .dataframe thead th {\n",
       "        text-align: right;\n",
       "    }\n",
       "</style>\n",
       "<table border=\"1\" class=\"dataframe\">\n",
       "  <thead>\n",
       "    <tr style=\"text-align: right;\">\n",
       "      <th></th>\n",
       "      <th>fruit_label</th>\n",
       "      <th>fruit_name</th>\n",
       "      <th>fruit_subtype</th>\n",
       "      <th>mass</th>\n",
       "      <th>width</th>\n",
       "      <th>height</th>\n",
       "      <th>color_score</th>\n",
       "    </tr>\n",
       "  </thead>\n",
       "  <tbody>\n",
       "    <tr>\n",
       "      <th>0</th>\n",
       "      <td>1</td>\n",
       "      <td>apple</td>\n",
       "      <td>granny_smith</td>\n",
       "      <td>192</td>\n",
       "      <td>8.4</td>\n",
       "      <td>7.3</td>\n",
       "      <td>0.55</td>\n",
       "    </tr>\n",
       "    <tr>\n",
       "      <th>1</th>\n",
       "      <td>1</td>\n",
       "      <td>apple</td>\n",
       "      <td>granny_smith</td>\n",
       "      <td>180</td>\n",
       "      <td>8.0</td>\n",
       "      <td>6.8</td>\n",
       "      <td>0.59</td>\n",
       "    </tr>\n",
       "    <tr>\n",
       "      <th>2</th>\n",
       "      <td>1</td>\n",
       "      <td>apple</td>\n",
       "      <td>granny_smith</td>\n",
       "      <td>176</td>\n",
       "      <td>7.4</td>\n",
       "      <td>7.2</td>\n",
       "      <td>0.60</td>\n",
       "    </tr>\n",
       "    <tr>\n",
       "      <th>3</th>\n",
       "      <td>2</td>\n",
       "      <td>mandarin</td>\n",
       "      <td>mandarin</td>\n",
       "      <td>86</td>\n",
       "      <td>6.2</td>\n",
       "      <td>4.7</td>\n",
       "      <td>0.80</td>\n",
       "    </tr>\n",
       "    <tr>\n",
       "      <th>4</th>\n",
       "      <td>2</td>\n",
       "      <td>mandarin</td>\n",
       "      <td>mandarin</td>\n",
       "      <td>84</td>\n",
       "      <td>6.0</td>\n",
       "      <td>4.6</td>\n",
       "      <td>0.79</td>\n",
       "    </tr>\n",
       "    <tr>\n",
       "      <th>5</th>\n",
       "      <td>2</td>\n",
       "      <td>mandarin</td>\n",
       "      <td>mandarin</td>\n",
       "      <td>80</td>\n",
       "      <td>5.8</td>\n",
       "      <td>4.3</td>\n",
       "      <td>0.77</td>\n",
       "    </tr>\n",
       "    <tr>\n",
       "      <th>6</th>\n",
       "      <td>2</td>\n",
       "      <td>mandarin</td>\n",
       "      <td>mandarin</td>\n",
       "      <td>80</td>\n",
       "      <td>5.9</td>\n",
       "      <td>4.3</td>\n",
       "      <td>0.81</td>\n",
       "    </tr>\n",
       "    <tr>\n",
       "      <th>7</th>\n",
       "      <td>2</td>\n",
       "      <td>mandarin</td>\n",
       "      <td>mandarin</td>\n",
       "      <td>76</td>\n",
       "      <td>5.8</td>\n",
       "      <td>4.0</td>\n",
       "      <td>0.81</td>\n",
       "    </tr>\n",
       "    <tr>\n",
       "      <th>8</th>\n",
       "      <td>1</td>\n",
       "      <td>apple</td>\n",
       "      <td>braeburn</td>\n",
       "      <td>178</td>\n",
       "      <td>7.1</td>\n",
       "      <td>7.8</td>\n",
       "      <td>0.92</td>\n",
       "    </tr>\n",
       "    <tr>\n",
       "      <th>9</th>\n",
       "      <td>1</td>\n",
       "      <td>apple</td>\n",
       "      <td>braeburn</td>\n",
       "      <td>172</td>\n",
       "      <td>7.4</td>\n",
       "      <td>7.0</td>\n",
       "      <td>0.89</td>\n",
       "    </tr>\n",
       "    <tr>\n",
       "      <th>10</th>\n",
       "      <td>1</td>\n",
       "      <td>apple</td>\n",
       "      <td>braeburn</td>\n",
       "      <td>166</td>\n",
       "      <td>6.9</td>\n",
       "      <td>7.3</td>\n",
       "      <td>0.93</td>\n",
       "    </tr>\n",
       "    <tr>\n",
       "      <th>11</th>\n",
       "      <td>1</td>\n",
       "      <td>apple</td>\n",
       "      <td>braeburn</td>\n",
       "      <td>172</td>\n",
       "      <td>7.1</td>\n",
       "      <td>7.6</td>\n",
       "      <td>0.92</td>\n",
       "    </tr>\n",
       "    <tr>\n",
       "      <th>12</th>\n",
       "      <td>1</td>\n",
       "      <td>apple</td>\n",
       "      <td>braeburn</td>\n",
       "      <td>154</td>\n",
       "      <td>7.0</td>\n",
       "      <td>7.1</td>\n",
       "      <td>0.88</td>\n",
       "    </tr>\n",
       "    <tr>\n",
       "      <th>13</th>\n",
       "      <td>1</td>\n",
       "      <td>apple</td>\n",
       "      <td>golden_delicious</td>\n",
       "      <td>164</td>\n",
       "      <td>7.3</td>\n",
       "      <td>7.7</td>\n",
       "      <td>0.70</td>\n",
       "    </tr>\n",
       "    <tr>\n",
       "      <th>14</th>\n",
       "      <td>1</td>\n",
       "      <td>apple</td>\n",
       "      <td>golden_delicious</td>\n",
       "      <td>152</td>\n",
       "      <td>7.6</td>\n",
       "      <td>7.3</td>\n",
       "      <td>0.69</td>\n",
       "    </tr>\n",
       "    <tr>\n",
       "      <th>15</th>\n",
       "      <td>1</td>\n",
       "      <td>apple</td>\n",
       "      <td>golden_delicious</td>\n",
       "      <td>156</td>\n",
       "      <td>7.7</td>\n",
       "      <td>7.1</td>\n",
       "      <td>0.69</td>\n",
       "    </tr>\n",
       "    <tr>\n",
       "      <th>16</th>\n",
       "      <td>1</td>\n",
       "      <td>apple</td>\n",
       "      <td>golden_delicious</td>\n",
       "      <td>156</td>\n",
       "      <td>7.6</td>\n",
       "      <td>7.5</td>\n",
       "      <td>0.67</td>\n",
       "    </tr>\n",
       "    <tr>\n",
       "      <th>17</th>\n",
       "      <td>1</td>\n",
       "      <td>apple</td>\n",
       "      <td>golden_delicious</td>\n",
       "      <td>168</td>\n",
       "      <td>7.5</td>\n",
       "      <td>7.6</td>\n",
       "      <td>0.73</td>\n",
       "    </tr>\n",
       "    <tr>\n",
       "      <th>18</th>\n",
       "      <td>1</td>\n",
       "      <td>apple</td>\n",
       "      <td>cripps_pink</td>\n",
       "      <td>162</td>\n",
       "      <td>7.5</td>\n",
       "      <td>7.1</td>\n",
       "      <td>0.83</td>\n",
       "    </tr>\n",
       "    <tr>\n",
       "      <th>19</th>\n",
       "      <td>1</td>\n",
       "      <td>apple</td>\n",
       "      <td>cripps_pink</td>\n",
       "      <td>162</td>\n",
       "      <td>7.4</td>\n",
       "      <td>7.2</td>\n",
       "      <td>0.85</td>\n",
       "    </tr>\n",
       "    <tr>\n",
       "      <th>20</th>\n",
       "      <td>1</td>\n",
       "      <td>apple</td>\n",
       "      <td>cripps_pink</td>\n",
       "      <td>160</td>\n",
       "      <td>7.5</td>\n",
       "      <td>7.5</td>\n",
       "      <td>0.86</td>\n",
       "    </tr>\n",
       "    <tr>\n",
       "      <th>21</th>\n",
       "      <td>1</td>\n",
       "      <td>apple</td>\n",
       "      <td>cripps_pink</td>\n",
       "      <td>156</td>\n",
       "      <td>7.4</td>\n",
       "      <td>7.4</td>\n",
       "      <td>0.84</td>\n",
       "    </tr>\n",
       "    <tr>\n",
       "      <th>22</th>\n",
       "      <td>1</td>\n",
       "      <td>apple</td>\n",
       "      <td>cripps_pink</td>\n",
       "      <td>140</td>\n",
       "      <td>7.3</td>\n",
       "      <td>7.1</td>\n",
       "      <td>0.87</td>\n",
       "    </tr>\n",
       "    <tr>\n",
       "      <th>23</th>\n",
       "      <td>1</td>\n",
       "      <td>apple</td>\n",
       "      <td>cripps_pink</td>\n",
       "      <td>170</td>\n",
       "      <td>7.6</td>\n",
       "      <td>7.9</td>\n",
       "      <td>0.88</td>\n",
       "    </tr>\n",
       "    <tr>\n",
       "      <th>24</th>\n",
       "      <td>3</td>\n",
       "      <td>orange</td>\n",
       "      <td>spanish_jumbo</td>\n",
       "      <td>342</td>\n",
       "      <td>9.0</td>\n",
       "      <td>9.4</td>\n",
       "      <td>0.75</td>\n",
       "    </tr>\n",
       "    <tr>\n",
       "      <th>25</th>\n",
       "      <td>3</td>\n",
       "      <td>orange</td>\n",
       "      <td>spanish_jumbo</td>\n",
       "      <td>356</td>\n",
       "      <td>9.2</td>\n",
       "      <td>9.2</td>\n",
       "      <td>0.75</td>\n",
       "    </tr>\n",
       "    <tr>\n",
       "      <th>26</th>\n",
       "      <td>3</td>\n",
       "      <td>orange</td>\n",
       "      <td>spanish_jumbo</td>\n",
       "      <td>362</td>\n",
       "      <td>9.6</td>\n",
       "      <td>9.2</td>\n",
       "      <td>0.74</td>\n",
       "    </tr>\n",
       "    <tr>\n",
       "      <th>27</th>\n",
       "      <td>3</td>\n",
       "      <td>orange</td>\n",
       "      <td>selected_seconds</td>\n",
       "      <td>204</td>\n",
       "      <td>7.5</td>\n",
       "      <td>9.2</td>\n",
       "      <td>0.77</td>\n",
       "    </tr>\n",
       "    <tr>\n",
       "      <th>28</th>\n",
       "      <td>3</td>\n",
       "      <td>orange</td>\n",
       "      <td>selected_seconds</td>\n",
       "      <td>140</td>\n",
       "      <td>6.7</td>\n",
       "      <td>7.1</td>\n",
       "      <td>0.72</td>\n",
       "    </tr>\n",
       "    <tr>\n",
       "      <th>29</th>\n",
       "      <td>3</td>\n",
       "      <td>orange</td>\n",
       "      <td>selected_seconds</td>\n",
       "      <td>160</td>\n",
       "      <td>7.0</td>\n",
       "      <td>7.4</td>\n",
       "      <td>0.81</td>\n",
       "    </tr>\n",
       "    <tr>\n",
       "      <th>30</th>\n",
       "      <td>3</td>\n",
       "      <td>orange</td>\n",
       "      <td>selected_seconds</td>\n",
       "      <td>158</td>\n",
       "      <td>7.1</td>\n",
       "      <td>7.5</td>\n",
       "      <td>0.79</td>\n",
       "    </tr>\n",
       "    <tr>\n",
       "      <th>31</th>\n",
       "      <td>3</td>\n",
       "      <td>orange</td>\n",
       "      <td>selected_seconds</td>\n",
       "      <td>210</td>\n",
       "      <td>7.8</td>\n",
       "      <td>8.0</td>\n",
       "      <td>0.82</td>\n",
       "    </tr>\n",
       "    <tr>\n",
       "      <th>32</th>\n",
       "      <td>3</td>\n",
       "      <td>orange</td>\n",
       "      <td>selected_seconds</td>\n",
       "      <td>164</td>\n",
       "      <td>7.2</td>\n",
       "      <td>7.0</td>\n",
       "      <td>0.80</td>\n",
       "    </tr>\n",
       "    <tr>\n",
       "      <th>33</th>\n",
       "      <td>3</td>\n",
       "      <td>orange</td>\n",
       "      <td>turkey_navel</td>\n",
       "      <td>190</td>\n",
       "      <td>7.5</td>\n",
       "      <td>8.1</td>\n",
       "      <td>0.74</td>\n",
       "    </tr>\n",
       "    <tr>\n",
       "      <th>34</th>\n",
       "      <td>3</td>\n",
       "      <td>orange</td>\n",
       "      <td>turkey_navel</td>\n",
       "      <td>142</td>\n",
       "      <td>7.6</td>\n",
       "      <td>7.8</td>\n",
       "      <td>0.75</td>\n",
       "    </tr>\n",
       "    <tr>\n",
       "      <th>35</th>\n",
       "      <td>3</td>\n",
       "      <td>orange</td>\n",
       "      <td>turkey_navel</td>\n",
       "      <td>150</td>\n",
       "      <td>7.1</td>\n",
       "      <td>7.9</td>\n",
       "      <td>0.75</td>\n",
       "    </tr>\n",
       "    <tr>\n",
       "      <th>36</th>\n",
       "      <td>3</td>\n",
       "      <td>orange</td>\n",
       "      <td>turkey_navel</td>\n",
       "      <td>160</td>\n",
       "      <td>7.1</td>\n",
       "      <td>7.6</td>\n",
       "      <td>0.76</td>\n",
       "    </tr>\n",
       "    <tr>\n",
       "      <th>37</th>\n",
       "      <td>3</td>\n",
       "      <td>orange</td>\n",
       "      <td>turkey_navel</td>\n",
       "      <td>154</td>\n",
       "      <td>7.3</td>\n",
       "      <td>7.3</td>\n",
       "      <td>0.79</td>\n",
       "    </tr>\n",
       "    <tr>\n",
       "      <th>38</th>\n",
       "      <td>3</td>\n",
       "      <td>orange</td>\n",
       "      <td>turkey_navel</td>\n",
       "      <td>158</td>\n",
       "      <td>7.2</td>\n",
       "      <td>7.8</td>\n",
       "      <td>0.77</td>\n",
       "    </tr>\n",
       "    <tr>\n",
       "      <th>39</th>\n",
       "      <td>3</td>\n",
       "      <td>orange</td>\n",
       "      <td>turkey_navel</td>\n",
       "      <td>144</td>\n",
       "      <td>6.8</td>\n",
       "      <td>7.4</td>\n",
       "      <td>0.75</td>\n",
       "    </tr>\n",
       "    <tr>\n",
       "      <th>40</th>\n",
       "      <td>3</td>\n",
       "      <td>orange</td>\n",
       "      <td>turkey_navel</td>\n",
       "      <td>154</td>\n",
       "      <td>7.1</td>\n",
       "      <td>7.5</td>\n",
       "      <td>0.78</td>\n",
       "    </tr>\n",
       "    <tr>\n",
       "      <th>41</th>\n",
       "      <td>3</td>\n",
       "      <td>orange</td>\n",
       "      <td>turkey_navel</td>\n",
       "      <td>180</td>\n",
       "      <td>7.6</td>\n",
       "      <td>8.2</td>\n",
       "      <td>0.79</td>\n",
       "    </tr>\n",
       "    <tr>\n",
       "      <th>42</th>\n",
       "      <td>3</td>\n",
       "      <td>orange</td>\n",
       "      <td>turkey_navel</td>\n",
       "      <td>154</td>\n",
       "      <td>7.2</td>\n",
       "      <td>7.2</td>\n",
       "      <td>0.82</td>\n",
       "    </tr>\n",
       "    <tr>\n",
       "      <th>43</th>\n",
       "      <td>4</td>\n",
       "      <td>lemon</td>\n",
       "      <td>spanish_belsan</td>\n",
       "      <td>194</td>\n",
       "      <td>7.2</td>\n",
       "      <td>10.3</td>\n",
       "      <td>0.70</td>\n",
       "    </tr>\n",
       "    <tr>\n",
       "      <th>44</th>\n",
       "      <td>4</td>\n",
       "      <td>lemon</td>\n",
       "      <td>spanish_belsan</td>\n",
       "      <td>200</td>\n",
       "      <td>7.3</td>\n",
       "      <td>10.5</td>\n",
       "      <td>0.72</td>\n",
       "    </tr>\n",
       "    <tr>\n",
       "      <th>45</th>\n",
       "      <td>4</td>\n",
       "      <td>lemon</td>\n",
       "      <td>spanish_belsan</td>\n",
       "      <td>186</td>\n",
       "      <td>7.2</td>\n",
       "      <td>9.2</td>\n",
       "      <td>0.72</td>\n",
       "    </tr>\n",
       "    <tr>\n",
       "      <th>46</th>\n",
       "      <td>4</td>\n",
       "      <td>lemon</td>\n",
       "      <td>spanish_belsan</td>\n",
       "      <td>216</td>\n",
       "      <td>7.3</td>\n",
       "      <td>10.2</td>\n",
       "      <td>0.71</td>\n",
       "    </tr>\n",
       "    <tr>\n",
       "      <th>47</th>\n",
       "      <td>4</td>\n",
       "      <td>lemon</td>\n",
       "      <td>spanish_belsan</td>\n",
       "      <td>196</td>\n",
       "      <td>7.3</td>\n",
       "      <td>9.7</td>\n",
       "      <td>0.72</td>\n",
       "    </tr>\n",
       "    <tr>\n",
       "      <th>48</th>\n",
       "      <td>4</td>\n",
       "      <td>lemon</td>\n",
       "      <td>spanish_belsan</td>\n",
       "      <td>174</td>\n",
       "      <td>7.3</td>\n",
       "      <td>10.1</td>\n",
       "      <td>0.72</td>\n",
       "    </tr>\n",
       "    <tr>\n",
       "      <th>49</th>\n",
       "      <td>4</td>\n",
       "      <td>lemon</td>\n",
       "      <td>unknown</td>\n",
       "      <td>132</td>\n",
       "      <td>5.8</td>\n",
       "      <td>8.7</td>\n",
       "      <td>0.73</td>\n",
       "    </tr>\n",
       "    <tr>\n",
       "      <th>50</th>\n",
       "      <td>4</td>\n",
       "      <td>lemon</td>\n",
       "      <td>unknown</td>\n",
       "      <td>130</td>\n",
       "      <td>6.0</td>\n",
       "      <td>8.2</td>\n",
       "      <td>0.71</td>\n",
       "    </tr>\n",
       "    <tr>\n",
       "      <th>51</th>\n",
       "      <td>4</td>\n",
       "      <td>lemon</td>\n",
       "      <td>unknown</td>\n",
       "      <td>116</td>\n",
       "      <td>6.0</td>\n",
       "      <td>7.5</td>\n",
       "      <td>0.72</td>\n",
       "    </tr>\n",
       "    <tr>\n",
       "      <th>52</th>\n",
       "      <td>4</td>\n",
       "      <td>lemon</td>\n",
       "      <td>unknown</td>\n",
       "      <td>118</td>\n",
       "      <td>5.9</td>\n",
       "      <td>8.0</td>\n",
       "      <td>0.72</td>\n",
       "    </tr>\n",
       "    <tr>\n",
       "      <th>53</th>\n",
       "      <td>4</td>\n",
       "      <td>lemon</td>\n",
       "      <td>unknown</td>\n",
       "      <td>120</td>\n",
       "      <td>6.0</td>\n",
       "      <td>8.4</td>\n",
       "      <td>0.74</td>\n",
       "    </tr>\n",
       "    <tr>\n",
       "      <th>54</th>\n",
       "      <td>4</td>\n",
       "      <td>lemon</td>\n",
       "      <td>unknown</td>\n",
       "      <td>116</td>\n",
       "      <td>6.1</td>\n",
       "      <td>8.5</td>\n",
       "      <td>0.71</td>\n",
       "    </tr>\n",
       "    <tr>\n",
       "      <th>55</th>\n",
       "      <td>4</td>\n",
       "      <td>lemon</td>\n",
       "      <td>unknown</td>\n",
       "      <td>116</td>\n",
       "      <td>6.3</td>\n",
       "      <td>7.7</td>\n",
       "      <td>0.72</td>\n",
       "    </tr>\n",
       "    <tr>\n",
       "      <th>56</th>\n",
       "      <td>4</td>\n",
       "      <td>lemon</td>\n",
       "      <td>unknown</td>\n",
       "      <td>116</td>\n",
       "      <td>5.9</td>\n",
       "      <td>8.1</td>\n",
       "      <td>0.73</td>\n",
       "    </tr>\n",
       "    <tr>\n",
       "      <th>57</th>\n",
       "      <td>4</td>\n",
       "      <td>lemon</td>\n",
       "      <td>unknown</td>\n",
       "      <td>152</td>\n",
       "      <td>6.5</td>\n",
       "      <td>8.5</td>\n",
       "      <td>0.72</td>\n",
       "    </tr>\n",
       "    <tr>\n",
       "      <th>58</th>\n",
       "      <td>4</td>\n",
       "      <td>lemon</td>\n",
       "      <td>unknown</td>\n",
       "      <td>118</td>\n",
       "      <td>6.1</td>\n",
       "      <td>8.1</td>\n",
       "      <td>0.70</td>\n",
       "    </tr>\n",
       "  </tbody>\n",
       "</table>\n",
       "</div>"
      ],
      "text/plain": [
       "    fruit_label fruit_name     fruit_subtype  mass  width  height  color_score\n",
       "0             1      apple      granny_smith   192    8.4     7.3         0.55\n",
       "1             1      apple      granny_smith   180    8.0     6.8         0.59\n",
       "2             1      apple      granny_smith   176    7.4     7.2         0.60\n",
       "3             2   mandarin          mandarin    86    6.2     4.7         0.80\n",
       "4             2   mandarin          mandarin    84    6.0     4.6         0.79\n",
       "5             2   mandarin          mandarin    80    5.8     4.3         0.77\n",
       "6             2   mandarin          mandarin    80    5.9     4.3         0.81\n",
       "7             2   mandarin          mandarin    76    5.8     4.0         0.81\n",
       "8             1      apple          braeburn   178    7.1     7.8         0.92\n",
       "9             1      apple          braeburn   172    7.4     7.0         0.89\n",
       "10            1      apple          braeburn   166    6.9     7.3         0.93\n",
       "11            1      apple          braeburn   172    7.1     7.6         0.92\n",
       "12            1      apple          braeburn   154    7.0     7.1         0.88\n",
       "13            1      apple  golden_delicious   164    7.3     7.7         0.70\n",
       "14            1      apple  golden_delicious   152    7.6     7.3         0.69\n",
       "15            1      apple  golden_delicious   156    7.7     7.1         0.69\n",
       "16            1      apple  golden_delicious   156    7.6     7.5         0.67\n",
       "17            1      apple  golden_delicious   168    7.5     7.6         0.73\n",
       "18            1      apple       cripps_pink   162    7.5     7.1         0.83\n",
       "19            1      apple       cripps_pink   162    7.4     7.2         0.85\n",
       "20            1      apple       cripps_pink   160    7.5     7.5         0.86\n",
       "21            1      apple       cripps_pink   156    7.4     7.4         0.84\n",
       "22            1      apple       cripps_pink   140    7.3     7.1         0.87\n",
       "23            1      apple       cripps_pink   170    7.6     7.9         0.88\n",
       "24            3     orange     spanish_jumbo   342    9.0     9.4         0.75\n",
       "25            3     orange     spanish_jumbo   356    9.2     9.2         0.75\n",
       "26            3     orange     spanish_jumbo   362    9.6     9.2         0.74\n",
       "27            3     orange  selected_seconds   204    7.5     9.2         0.77\n",
       "28            3     orange  selected_seconds   140    6.7     7.1         0.72\n",
       "29            3     orange  selected_seconds   160    7.0     7.4         0.81\n",
       "30            3     orange  selected_seconds   158    7.1     7.5         0.79\n",
       "31            3     orange  selected_seconds   210    7.8     8.0         0.82\n",
       "32            3     orange  selected_seconds   164    7.2     7.0         0.80\n",
       "33            3     orange      turkey_navel   190    7.5     8.1         0.74\n",
       "34            3     orange      turkey_navel   142    7.6     7.8         0.75\n",
       "35            3     orange      turkey_navel   150    7.1     7.9         0.75\n",
       "36            3     orange      turkey_navel   160    7.1     7.6         0.76\n",
       "37            3     orange      turkey_navel   154    7.3     7.3         0.79\n",
       "38            3     orange      turkey_navel   158    7.2     7.8         0.77\n",
       "39            3     orange      turkey_navel   144    6.8     7.4         0.75\n",
       "40            3     orange      turkey_navel   154    7.1     7.5         0.78\n",
       "41            3     orange      turkey_navel   180    7.6     8.2         0.79\n",
       "42            3     orange      turkey_navel   154    7.2     7.2         0.82\n",
       "43            4      lemon    spanish_belsan   194    7.2    10.3         0.70\n",
       "44            4      lemon    spanish_belsan   200    7.3    10.5         0.72\n",
       "45            4      lemon    spanish_belsan   186    7.2     9.2         0.72\n",
       "46            4      lemon    spanish_belsan   216    7.3    10.2         0.71\n",
       "47            4      lemon    spanish_belsan   196    7.3     9.7         0.72\n",
       "48            4      lemon    spanish_belsan   174    7.3    10.1         0.72\n",
       "49            4      lemon           unknown   132    5.8     8.7         0.73\n",
       "50            4      lemon           unknown   130    6.0     8.2         0.71\n",
       "51            4      lemon           unknown   116    6.0     7.5         0.72\n",
       "52            4      lemon           unknown   118    5.9     8.0         0.72\n",
       "53            4      lemon           unknown   120    6.0     8.4         0.74\n",
       "54            4      lemon           unknown   116    6.1     8.5         0.71\n",
       "55            4      lemon           unknown   116    6.3     7.7         0.72\n",
       "56            4      lemon           unknown   116    5.9     8.1         0.73\n",
       "57            4      lemon           unknown   152    6.5     8.5         0.72\n",
       "58            4      lemon           unknown   118    6.1     8.1         0.70"
      ]
     },
     "execution_count": 4,
     "metadata": {},
     "output_type": "execute_result"
    }
   ],
   "source": [
    "df"
   ]
  },
  {
   "cell_type": "code",
   "execution_count": 5,
   "metadata": {},
   "outputs": [
    {
     "data": {
      "text/plain": [
       "(59, 7)"
      ]
     },
     "execution_count": 5,
     "metadata": {},
     "output_type": "execute_result"
    }
   ],
   "source": [
    "df.shape"
   ]
  },
  {
   "cell_type": "code",
   "execution_count": 6,
   "metadata": {},
   "outputs": [
    {
     "data": {
      "text/plain": [
       "413"
      ]
     },
     "execution_count": 6,
     "metadata": {},
     "output_type": "execute_result"
    }
   ],
   "source": [
    "df.size"
   ]
  },
  {
   "cell_type": "code",
   "execution_count": 7,
   "metadata": {},
   "outputs": [
    {
     "data": {
      "text/plain": [
       "0        apple\n",
       "1        apple\n",
       "2        apple\n",
       "3     mandarin\n",
       "4     mandarin\n",
       "5     mandarin\n",
       "6     mandarin\n",
       "7     mandarin\n",
       "8        apple\n",
       "9        apple\n",
       "10       apple\n",
       "11       apple\n",
       "12       apple\n",
       "13       apple\n",
       "14       apple\n",
       "15       apple\n",
       "16       apple\n",
       "17       apple\n",
       "18       apple\n",
       "19       apple\n",
       "20       apple\n",
       "21       apple\n",
       "22       apple\n",
       "23       apple\n",
       "24      orange\n",
       "25      orange\n",
       "26      orange\n",
       "27      orange\n",
       "28      orange\n",
       "29      orange\n",
       "30      orange\n",
       "31      orange\n",
       "32      orange\n",
       "33      orange\n",
       "34      orange\n",
       "35      orange\n",
       "36      orange\n",
       "37      orange\n",
       "38      orange\n",
       "39      orange\n",
       "40      orange\n",
       "41      orange\n",
       "42      orange\n",
       "43       lemon\n",
       "44       lemon\n",
       "45       lemon\n",
       "46       lemon\n",
       "47       lemon\n",
       "48       lemon\n",
       "49       lemon\n",
       "50       lemon\n",
       "51       lemon\n",
       "52       lemon\n",
       "53       lemon\n",
       "54       lemon\n",
       "55       lemon\n",
       "56       lemon\n",
       "57       lemon\n",
       "58       lemon\n",
       "Name: fruit_name, dtype: object"
      ]
     },
     "execution_count": 7,
     "metadata": {},
     "output_type": "execute_result"
    }
   ],
   "source": [
    "df.fruit_name"
   ]
  },
  {
   "cell_type": "code",
   "execution_count": 8,
   "metadata": {},
   "outputs": [],
   "source": [
    "fname=df.fruit_name.unique()"
   ]
  },
  {
   "cell_type": "code",
   "execution_count": 9,
   "metadata": {},
   "outputs": [
    {
     "data": {
      "text/plain": [
       "array([1, 2, 3, 4], dtype=int64)"
      ]
     },
     "execution_count": 9,
     "metadata": {},
     "output_type": "execute_result"
    }
   ],
   "source": [
    "df.fruit_label.unique()"
   ]
  },
  {
   "cell_type": "code",
   "execution_count": 34,
   "metadata": {},
   "outputs": [],
   "source": [
    "fsize=df.groupby('fruit_name',sort=False).size()"
   ]
  },
  {
   "cell_type": "code",
   "execution_count": 35,
   "metadata": {},
   "outputs": [
    {
     "data": {
      "text/plain": [
       "<BarContainer object of 4 artists>"
      ]
     },
     "execution_count": 35,
     "metadata": {},
     "output_type": "execute_result"
    },
    {
     "data": {
      "image/png": "[encoded data removed]",
      "text/plain": [
       "<Figure size 432x288 with 1 Axes>"
      ]
     },
     "metadata": {
      "needs_background": "light"
     },
     "output_type": "display_data"
    }
   ],
   "source": [
    "import matplotlib.pyplot as plt\n",
    "plt.bar(fname,fsize,width=0.5,color=['r','g','b','y'])"
   ]
  },
  {
   "cell_type": "code",
   "execution_count": 36,
   "metadata": {},
   "outputs": [
    {
     "data": {
      "text/plain": [
       "fruit_name\n",
       "apple       19\n",
       "mandarin     5\n",
       "orange      19\n",
       "lemon       16\n",
       "dtype: int64"
      ]
     },
     "execution_count": 36,
     "metadata": {},
     "output_type": "execute_result"
    }
   ],
   "source": [
    "fsize"
   ]
  },
  {
   "cell_type": "code",
   "execution_count": 72,
   "metadata": {},
   "outputs": [],
   "source": [
    "x=df.iloc[:,[3,4,5,6]].values"
   ]
  },
  {
   "cell_type": "code",
   "execution_count": 73,
   "metadata": {},
   "outputs": [
    {
     "data": {
      "text/plain": [
       "array([[192.  ,   8.4 ,   7.3 ,   0.55],\n",
       "       [180.  ,   8.  ,   6.8 ,   0.59],\n",
       "       [176.  ,   7.4 ,   7.2 ,   0.6 ],\n",
       "       [ 86.  ,   6.2 ,   4.7 ,   0.8 ],\n",
       "       [ 84.  ,   6.  ,   4.6 ,   0.79],\n",
       "       [ 80.  ,   5.8 ,   4.3 ,   0.77],\n",
       "       [ 80.  ,   5.9 ,   4.3 ,   0.81],\n",
       "       [ 76.  ,   5.8 ,   4.  ,   0.81],\n",
       "       [178.  ,   7.1 ,   7.8 ,   0.92],\n",
       "       [172.  ,   7.4 ,   7.  ,   0.89],\n",
       "       [166.  ,   6.9 ,   7.3 ,   0.93],\n",
       "       [172.  ,   7.1 ,   7.6 ,   0.92],\n",
       "       [154.  ,   7.  ,   7.1 ,   0.88],\n",
       "       [164.  ,   7.3 ,   7.7 ,   0.7 ],\n",
       "       [152.  ,   7.6 ,   7.3 ,   0.69],\n",
       "       [156.  ,   7.7 ,   7.1 ,   0.69],\n",
       "       [156.  ,   7.6 ,   7.5 ,   0.67],\n",
       "       [168.  ,   7.5 ,   7.6 ,   0.73],\n",
       "       [162.  ,   7.5 ,   7.1 ,   0.83],\n",
       "       [162.  ,   7.4 ,   7.2 ,   0.85],\n",
       "       [160.  ,   7.5 ,   7.5 ,   0.86],\n",
       "       [156.  ,   7.4 ,   7.4 ,   0.84],\n",
       "       [140.  ,   7.3 ,   7.1 ,   0.87],\n",
       "       [170.  ,   7.6 ,   7.9 ,   0.88],\n",
       "       [342.  ,   9.  ,   9.4 ,   0.75],\n",
       "       [356.  ,   9.2 ,   9.2 ,   0.75],\n",
       "       [362.  ,   9.6 ,   9.2 ,   0.74],\n",
       "       [204.  ,   7.5 ,   9.2 ,   0.77],\n",
       "       [140.  ,   6.7 ,   7.1 ,   0.72],\n",
       "       [160.  ,   7.  ,   7.4 ,   0.81],\n",
       "       [158.  ,   7.1 ,   7.5 ,   0.79],\n",
       "       [210.  ,   7.8 ,   8.  ,   0.82],\n",
       "       [164.  ,   7.2 ,   7.  ,   0.8 ],\n",
       "       [190.  ,   7.5 ,   8.1 ,   0.74],\n",
       "       [142.  ,   7.6 ,   7.8 ,   0.75],\n",
       "       [150.  ,   7.1 ,   7.9 ,   0.75],\n",
       "       [160.  ,   7.1 ,   7.6 ,   0.76],\n",
       "       [154.  ,   7.3 ,   7.3 ,   0.79],\n",
       "       [158.  ,   7.2 ,   7.8 ,   0.77],\n",
       "       [144.  ,   6.8 ,   7.4 ,   0.75],\n",
       "       [154.  ,   7.1 ,   7.5 ,   0.78],\n",
       "       [180.  ,   7.6 ,   8.2 ,   0.79],\n",
       "       [154.  ,   7.2 ,   7.2 ,   0.82],\n",
       "       [194.  ,   7.2 ,  10.3 ,   0.7 ],\n",
       "       [200.  ,   7.3 ,  10.5 ,   0.72],\n",
       "       [186.  ,   7.2 ,   9.2 ,   0.72],\n",
       "       [216.  ,   7.3 ,  10.2 ,   0.71],\n",
       "       [196.  ,   7.3 ,   9.7 ,   0.72],\n",
       "       [174.  ,   7.3 ,  10.1 ,   0.72],\n",
       "       [132.  ,   5.8 ,   8.7 ,   0.73],\n",
       "       [130.  ,   6.  ,   8.2 ,   0.71],\n",
       "       [116.  ,   6.  ,   7.5 ,   0.72],\n",
       "       [118.  ,   5.9 ,   8.  ,   0.72],\n",
       "       [120.  ,   6.  ,   8.4 ,   0.74],\n",
       "       [116.  ,   6.1 ,   8.5 ,   0.71],\n",
       "       [116.  ,   6.3 ,   7.7 ,   0.72],\n",
       "       [116.  ,   5.9 ,   8.1 ,   0.73],\n",
       "       [152.  ,   6.5 ,   8.5 ,   0.72],\n",
       "       [118.  ,   6.1 ,   8.1 ,   0.7 ]])"
      ]
     },
     "execution_count": 73,
     "metadata": {},
     "output_type": "execute_result"
    }
   ],
   "source": [
    "x"
   ]
  },
  {
   "cell_type": "code",
   "execution_count": 74,
   "metadata": {},
   "outputs": [],
   "source": [
    "y=df.iloc[:,1].values"
   ]
  },
  {
   "cell_type": "code",
   "execution_count": 75,
   "metadata": {},
   "outputs": [
    {
     "data": {
      "text/plain": [
       "array(['apple', 'apple', 'apple', 'mandarin', 'mandarin', 'mandarin',\n",
       "       'mandarin', 'mandarin', 'apple', 'apple', 'apple', 'apple',\n",
       "       'apple', 'apple', 'apple', 'apple', 'apple', 'apple', 'apple',\n",
       "       'apple', 'apple', 'apple', 'apple', 'apple', 'orange', 'orange',\n",
       "       'orange', 'orange', 'orange', 'orange', 'orange', 'orange',\n",
       "       'orange', 'orange', 'orange', 'orange', 'orange', 'orange',\n",
       "       'orange', 'orange', 'orange', 'orange', 'orange', 'lemon', 'lemon',\n",
       "       'lemon', 'lemon', 'lemon', 'lemon', 'lemon', 'lemon', 'lemon',\n",
       "       'lemon', 'lemon', 'lemon', 'lemon', 'lemon', 'lemon', 'lemon'],\n",
       "      dtype=object)"
      ]
     },
     "execution_count": 75,
     "metadata": {},
     "output_type": "execute_result"
    }
   ],
   "source": [
    "y"
   ]
  },
  {
   "cell_type": "code",
   "execution_count": 76,
   "metadata": {},
   "outputs": [],
   "source": [
    "from sklearn.model_selection import train_test_split\n",
    "x_train,x_test,y_train,y_test=train_test_split(x,y,random_state=0)"
   ]
  },
  {
   "cell_type": "code",
   "execution_count": 77,
   "metadata": {},
   "outputs": [
    {
     "data": {
      "text/plain": [
       "(44, 4)"
      ]
     },
     "execution_count": 77,
     "metadata": {},
     "output_type": "execute_result"
    }
   ],
   "source": [
    "x_train.shape"
   ]
  },
  {
   "cell_type": "code",
   "execution_count": 78,
   "metadata": {},
   "outputs": [
    {
     "data": {
      "text/plain": [
       "(15, 4)"
      ]
     },
     "execution_count": 78,
     "metadata": {},
     "output_type": "execute_result"
    }
   ],
   "source": [
    "x_test.shape"
   ]
  },
  {
   "cell_type": "code",
   "execution_count": 79,
   "metadata": {},
   "outputs": [],
   "source": [
    "from sklearn.preprocessing import StandardScaler"
   ]
  },
  {
   "cell_type": "code",
   "execution_count": 120,
   "metadata": {},
   "outputs": [],
   "source": [
    "#Using of min max scaler\n",
    "\n",
    "\n",
    "\n",
    "from sklearn.preprocessing import MinMaxScaler\n",
    "std=MinMaxScaler()"
   ]
  },
  {
   "cell_type": "code",
   "execution_count": null,
   "metadata": {},
   "outputs": [],
   "source": []
  },
  {
   "cell_type": "code",
   "execution_count": 110,
   "metadata": {},
   "outputs": [],
   "source": [
    "x_train=std.fit_transform(x_train)"
   ]
  },
  {
   "cell_type": "code",
   "execution_count": 111,
   "metadata": {},
   "outputs": [],
   "source": [
    "x_test=std.fit_transform(x_test)"
   ]
  },
  {
   "cell_type": "code",
   "execution_count": 83,
   "metadata": {},
   "outputs": [],
   "source": [
    "from sklearn.linear_model import LogisticRegression"
   ]
  },
  {
   "cell_type": "code",
   "execution_count": 119,
   "metadata": {},
   "outputs": [
    {
     "name": "stdout",
     "output_type": "stream",
     "text": [
      "['orange' 'orange' 'lemon' 'lemon' 'apple' 'apple' 'apple' 'lemon'\n",
      " 'orange' 'apple' 'mandarin' 'apple' 'orange' 'orange' 'apple']\n"
     ]
    },
    {
     "data": {
      "text/plain": [
       "80.0"
      ]
     },
     "execution_count": 119,
     "metadata": {},
     "output_type": "execute_result"
    }
   ],
   "source": [
    "  #HUsing KNN \n",
    "    \n",
    "    \n",
    "    \n",
    "    \n",
    "    \n",
    "from sklearn.neighbors import KNeighborsClassifier\n",
    "model=KNeighborsClassifier(n_neighbors=5,metric='euclidean')\n",
    "model.fit(x_train,y_train)\n",
    "print(model.predict(x_test))\n",
    "model.score(x_test,y_test)*100"
   ]
  },
  {
   "cell_type": "code",
   "execution_count": null,
   "metadata": {},
   "outputs": [],
   "source": [
    " model=LogisticRegression()"
   ]
  },
  {
   "cell_type": "code",
   "execution_count": 85,
   "metadata": {},
   "outputs": [
    {
     "name": "stderr",
     "output_type": "stream",
     "text": [
      "C:\\Users\\vsulg\\Anaconda3\\lib\\site-packages\\sklearn\\linear_model\\logistic.py:432: FutureWarning: Default solver will be changed to 'lbfgs' in 0.22. Specify a solver to silence this warning.\n",
      "  FutureWarning)\n",
      "C:\\Users\\vsulg\\Anaconda3\\lib\\site-packages\\sklearn\\linear_model\\logistic.py:469: FutureWarning: Default multi_class will be changed to 'auto' in 0.22. Specify the multi_class option to silence this warning.\n",
      "  \"this warning.\", FutureWarning)\n"
     ]
    },
    {
     "data": {
      "text/plain": [
       "LogisticRegression(C=1.0, class_weight=None, dual=False, fit_intercept=True,\n",
       "                   intercept_scaling=1, l1_ratio=None, max_iter=100,\n",
       "                   multi_class='warn', n_jobs=None, penalty='l2',\n",
       "                   random_state=None, solver='warn', tol=0.0001, verbose=0,\n",
       "                   warm_start=False)"
      ]
     },
     "execution_count": 85,
     "metadata": {},
     "output_type": "execute_result"
    }
   ],
   "source": [
    "model.fit(x_train,y_train)"
   ]
  },
  {
   "cell_type": "code",
   "execution_count": 86,
   "metadata": {},
   "outputs": [],
   "source": [
    "y_pred=model.predict(x_test)"
   ]
  },
  {
   "cell_type": "code",
   "execution_count": 87,
   "metadata": {},
   "outputs": [
    {
     "data": {
      "text/plain": [
       "array(['orange', 'lemon', 'lemon', 'lemon', 'orange', 'lemon', 'apple',\n",
       "       'lemon', 'apple', 'apple', 'mandarin', 'orange', 'apple', 'apple',\n",
       "       'apple'], dtype=object)"
      ]
     },
     "execution_count": 87,
     "metadata": {},
     "output_type": "execute_result"
    }
   ],
   "source": [
    "y_pred"
   ]
  },
  {
   "cell_type": "code",
   "execution_count": 88,
   "metadata": {},
   "outputs": [
    {
     "data": {
      "text/plain": [
       "33.33333333333333"
      ]
     },
     "execution_count": 88,
     "metadata": {},
     "output_type": "execute_result"
    }
   ],
   "source": [
    "model.score(x_test,y_test)*100"
   ]
  },
  {
   "cell_type": "code",
   "execution_count": 89,
   "metadata": {},
   "outputs": [
    {
     "data": {
      "text/plain": [
       "(59, 4)"
      ]
     },
     "execution_count": 89,
     "metadata": {},
     "output_type": "execute_result"
    }
   ],
   "source": [
    "x.shape"
   ]
  },
  {
   "cell_type": "code",
   "execution_count": 99,
   "metadata": {},
   "outputs": [],
   "source": [
    "from sklearn.tree import DecisionTreeClassifier"
   ]
  },
  {
   "cell_type": "code",
   "execution_count": 103,
   "metadata": {},
   "outputs": [
    {
     "data": {
      "text/plain": [
       "DecisionTreeClassifier(class_weight=None, criterion='gini', max_depth=None,\n",
       "                       max_features=None, max_leaf_nodes=None,\n",
       "                       min_impurity_decrease=0.0, min_impurity_split=None,\n",
       "                       min_samples_leaf=1, min_samples_split=2,\n",
       "                       min_weight_fraction_leaf=0.0, presort=False,\n",
       "                       random_state=None, splitter='best')"
      ]
     },
     "execution_count": 103,
     "metadata": {},
     "output_type": "execute_result"
    }
   ],
   "source": [
    "model=DecisionTreeClassifier()\n",
    "model.fit(x_train,y_train)"
   ]
  },
  {
   "cell_type": "code",
   "execution_count": 106,
   "metadata": {},
   "outputs": [],
   "source": [
    "y_pred=model.predict(x_test)"
   ]
  },
  {
   "cell_type": "code",
   "execution_count": 107,
   "metadata": {},
   "outputs": [
    {
     "data": {
      "text/plain": [
       "73.33333333333333"
      ]
     },
     "execution_count": 107,
     "metadata": {},
     "output_type": "execute_result"
    }
   ],
   "source": [
    "model.score(x_test,y_test)*100"
   ]
  },
  {
   "cell_type": "code",
   "execution_count": null,
   "metadata": {},
   "outputs": [],
   "source": []
  }
 ],
 "metadata": {
  "kernelspec": {
   "display_name": "Python 3",
   "language": "python",
   "name": "python3"
  },
  "language_info": {
   "codemirror_mode": {
    "name": "ipython",
    "version": 3
   },
   "file_extension": ".py",
   "mimetype": "text/x-python",
   "name": "python",
   "nbconvert_exporter": "python",
   "pygments_lexer": "ipython3",
   "version": "3.7.1"
  }
 },
 "nbformat": 4,
 "nbformat_minor": 2
}
